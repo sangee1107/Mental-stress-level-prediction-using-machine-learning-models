{
  "nbformat": 4,
  "nbformat_minor": 0,
  "metadata": {
    "colab": {
      "name": "stress.ipynb",
      "provenance": [],
      "collapsed_sections": []
    },
    "kernelspec": {
      "name": "python3",
      "display_name": "Python 3"
    },
    "language_info": {
      "name": "python"
    }
  },
  "cells": [
    {
      "cell_type": "code",
      "execution_count": 1,
      "metadata": {
        "colab": {
          "base_uri": "https://localhost:8080/",
          "height": 53
        },
        "id": "64e45N8vx6aQ",
        "outputId": "1f235955-ddb4-444d-d8a6-c74f314af2ce"
      },
      "outputs": [
        {
          "output_type": "stream",
          "name": "stdout",
          "text": [
            "Libraries Imported\n"
          ]
        },
        {
          "output_type": "execute_result",
          "data": {
            "text/plain": [
              "'1.3.5'"
            ],
            "application/vnd.google.colaboratory.intrinsic+json": {
              "type": "string"
            }
          },
          "metadata": {},
          "execution_count": 1
        }
      ],
      "source": [
        "import pandas as pd\n",
        "import numpy as np\n",
        "import matplotlib.pyplot as plt\n",
        "import seaborn as sns\n",
        "import warnings\n",
        "from imblearn.over_sampling import SMOTE\n",
        "from sklearn.model_selection import RepeatedStratifiedKFold\n",
        "from sklearn.model_selection import RandomizedSearchCV, StratifiedKFold\n",
        "from imblearn.pipeline import make_pipeline\n",
        "from pylab import rcParams\n",
        "from sklearn.model_selection import GridSearchCV\n",
        "from sklearn.model_selection import train_test_split\n",
        "from sklearn.preprocessing import StandardScaler\n",
        "from sklearn.ensemble import RandomForestClassifier\n",
        "from sklearn.tree import DecisionTreeClassifier\n",
        "from sklearn.ensemble import GradientBoostingClassifier\n",
        "from sklearn.metrics import classification_report,accuracy_score,confusion_matrix\n",
        "from sklearn.metrics import accuracy_score\n",
        "from sklearn.metrics import precision_score, recall_score\n",
        "from sklearn.metrics import f1_score, roc_auc_score, roc_curve\n",
        "print('Libraries Imported')\n",
        "pd.__version__"
      ]
    },
    {
      "cell_type": "code",
      "source": [
        "data=pd.read_csv('/content/stress data.csv') "
      ],
      "metadata": {
        "id": "6x4nvrtFyIX2"
      },
      "execution_count": 2,
      "outputs": []
    },
    {
      "cell_type": "code",
      "source": [
        "data.head(2)"
      ],
      "metadata": {
        "colab": {
          "base_uri": "https://localhost:8080/",
          "height": 483
        },
        "id": "lI-LdtHXyY4Q",
        "outputId": "21adffa4-eb02-4982-c693-e99f33418193"
      },
      "execution_count": 3,
      "outputs": [
        {
          "output_type": "execute_result",
          "data": {
            "text/plain": [
              "          Timestamp Name (with initials)    Age  Gender  \\\n",
              "0  04-07-2022 22:17          Sangeetha S  20-30  Female   \n",
              "1  04-07-2022 22:20        Anto Jeffry A  20-30    Male   \n",
              "\n",
              "  Professional Status      \\\n",
              "0                 Student   \n",
              "1                 Student   \n",
              "\n",
              "  How often are you able to stay focused on the present moment?  \\\n",
              "0                                      Almost Always              \n",
              "1                                          Sometimes              \n",
              "\n",
              "  How much time would you spend on using your mobile phone per day?  \\\n",
              "0                                            4-6 hrs                  \n",
              "1                                            6-7 hrs                  \n",
              "\n",
              "  Do you fall asleep easily at night?(The average person falls asleep in 7-10 minutes).  \\\n",
              "0                                                Yes                                      \n",
              "1                                              Maybe                                      \n",
              "\n",
              "  On average, how many hours would you sleep per day?  \\\n",
              "0                                          5-7 hours    \n",
              "1                                          5-7 hours    \n",
              "\n",
              "  How would you feel while facing trivial issues(not serious issues) ?  ...  \\\n",
              "0                                     Calm or normal                    ...   \n",
              "1                                  Feeling irritated                    ...   \n",
              "\n",
              "  Felt that you were unable to control important things in your life?  \\\n",
              "0                                          Sometimes                    \n",
              "1                                          Sometimes                    \n",
              "\n",
              "  Give some reasons for your stress.  \\\n",
              "0                      Work pressure   \n",
              "1                    Personal issues   \n",
              "\n",
              "  Would you speak openly about your feelings when angry or stressed?  \\\n",
              "0                                          Sometimes                   \n",
              "1                                          Sometimes                   \n",
              "\n",
              "  Do you feel like withdrawing from family, friends and isolating yourself?  \\\n",
              "0                                                 No                          \n",
              "1                                                Yes                          \n",
              "\n",
              "  Would you face any health issues because of your stress?  \\\n",
              "0                                                 No         \n",
              "1                                                yes         \n",
              "\n",
              "  How do you rate your stress level? What does stress feel like to you?  \\\n",
              "0                             Medium                       Restlessness   \n",
              "1                               High              Anxiety or depression   \n",
              "\n",
              "  Who is one person that understands your stress?  \\\n",
              "0                                        Yourself   \n",
              "1                                     Best friend   \n",
              "\n",
              "  Where and when do you feel most relaxed? Unnamed: 20  \n",
              "0                           While sleeping         NaN  \n",
              "1                             While gaming         NaN  \n",
              "\n",
              "[2 rows x 21 columns]"
            ],
            "text/html": [
              "\n",
              "  <div id=\"df-d4575a16-195f-41ae-a176-19f68aba4317\">\n",
              "    <div class=\"colab-df-container\">\n",
              "      <div>\n",
              "<style scoped>\n",
              "    .dataframe tbody tr th:only-of-type {\n",
              "        vertical-align: middle;\n",
              "    }\n",
              "\n",
              "    .dataframe tbody tr th {\n",
              "        vertical-align: top;\n",
              "    }\n",
              "\n",
              "    .dataframe thead th {\n",
              "        text-align: right;\n",
              "    }\n",
              "</style>\n",
              "<table border=\"1\" class=\"dataframe\">\n",
              "  <thead>\n",
              "    <tr style=\"text-align: right;\">\n",
              "      <th></th>\n",
              "      <th>Timestamp</th>\n",
              "      <th>Name (with initials)</th>\n",
              "      <th>Age</th>\n",
              "      <th>Gender</th>\n",
              "      <th>Professional Status</th>\n",
              "      <th>How often are you able to stay focused on the present moment?</th>\n",
              "      <th>How much time would you spend on using your mobile phone per day?</th>\n",
              "      <th>Do you fall asleep easily at night?(The average person falls asleep in 7-10 minutes).</th>\n",
              "      <th>On average, how many hours would you sleep per day?</th>\n",
              "      <th>How would you feel while facing trivial issues(not serious issues) ?</th>\n",
              "      <th>...</th>\n",
              "      <th>Felt that you were unable to control important things in your life?</th>\n",
              "      <th>Give some reasons for your stress.</th>\n",
              "      <th>Would you speak openly about your feelings when angry or stressed?</th>\n",
              "      <th>Do you feel like withdrawing from family, friends and isolating yourself?</th>\n",
              "      <th>Would you face any health issues because of your stress?</th>\n",
              "      <th>How do you rate your stress level?</th>\n",
              "      <th>What does stress feel like to you?</th>\n",
              "      <th>Who is one person that understands your stress?</th>\n",
              "      <th>Where and when do you feel most relaxed?</th>\n",
              "      <th>Unnamed: 20</th>\n",
              "    </tr>\n",
              "  </thead>\n",
              "  <tbody>\n",
              "    <tr>\n",
              "      <th>0</th>\n",
              "      <td>04-07-2022 22:17</td>\n",
              "      <td>Sangeetha S</td>\n",
              "      <td>20-30</td>\n",
              "      <td>Female</td>\n",
              "      <td>Student</td>\n",
              "      <td>Almost Always</td>\n",
              "      <td>4-6 hrs</td>\n",
              "      <td>Yes</td>\n",
              "      <td>5-7 hours</td>\n",
              "      <td>Calm or normal</td>\n",
              "      <td>...</td>\n",
              "      <td>Sometimes</td>\n",
              "      <td>Work pressure</td>\n",
              "      <td>Sometimes</td>\n",
              "      <td>No</td>\n",
              "      <td>No</td>\n",
              "      <td>Medium</td>\n",
              "      <td>Restlessness</td>\n",
              "      <td>Yourself</td>\n",
              "      <td>While sleeping</td>\n",
              "      <td>NaN</td>\n",
              "    </tr>\n",
              "    <tr>\n",
              "      <th>1</th>\n",
              "      <td>04-07-2022 22:20</td>\n",
              "      <td>Anto Jeffry A</td>\n",
              "      <td>20-30</td>\n",
              "      <td>Male</td>\n",
              "      <td>Student</td>\n",
              "      <td>Sometimes</td>\n",
              "      <td>6-7 hrs</td>\n",
              "      <td>Maybe</td>\n",
              "      <td>5-7 hours</td>\n",
              "      <td>Feeling irritated</td>\n",
              "      <td>...</td>\n",
              "      <td>Sometimes</td>\n",
              "      <td>Personal issues</td>\n",
              "      <td>Sometimes</td>\n",
              "      <td>Yes</td>\n",
              "      <td>yes</td>\n",
              "      <td>High</td>\n",
              "      <td>Anxiety or depression</td>\n",
              "      <td>Best friend</td>\n",
              "      <td>While gaming</td>\n",
              "      <td>NaN</td>\n",
              "    </tr>\n",
              "  </tbody>\n",
              "</table>\n",
              "<p>2 rows × 21 columns</p>\n",
              "</div>\n",
              "      <button class=\"colab-df-convert\" onclick=\"convertToInteractive('df-d4575a16-195f-41ae-a176-19f68aba4317')\"\n",
              "              title=\"Convert this dataframe to an interactive table.\"\n",
              "              style=\"display:none;\">\n",
              "        \n",
              "  <svg xmlns=\"http://www.w3.org/2000/svg\" height=\"24px\"viewBox=\"0 0 24 24\"\n",
              "       width=\"24px\">\n",
              "    <path d=\"M0 0h24v24H0V0z\" fill=\"none\"/>\n",
              "    <path d=\"M18.56 5.44l.94 2.06.94-2.06 2.06-.94-2.06-.94-.94-2.06-.94 2.06-2.06.94zm-11 1L8.5 8.5l.94-2.06 2.06-.94-2.06-.94L8.5 2.5l-.94 2.06-2.06.94zm10 10l.94 2.06.94-2.06 2.06-.94-2.06-.94-.94-2.06-.94 2.06-2.06.94z\"/><path d=\"M17.41 7.96l-1.37-1.37c-.4-.4-.92-.59-1.43-.59-.52 0-1.04.2-1.43.59L10.3 9.45l-7.72 7.72c-.78.78-.78 2.05 0 2.83L4 21.41c.39.39.9.59 1.41.59.51 0 1.02-.2 1.41-.59l7.78-7.78 2.81-2.81c.8-.78.8-2.07 0-2.86zM5.41 20L4 18.59l7.72-7.72 1.47 1.35L5.41 20z\"/>\n",
              "  </svg>\n",
              "      </button>\n",
              "      \n",
              "  <style>\n",
              "    .colab-df-container {\n",
              "      display:flex;\n",
              "      flex-wrap:wrap;\n",
              "      gap: 12px;\n",
              "    }\n",
              "\n",
              "    .colab-df-convert {\n",
              "      background-color: #E8F0FE;\n",
              "      border: none;\n",
              "      border-radius: 50%;\n",
              "      cursor: pointer;\n",
              "      display: none;\n",
              "      fill: #1967D2;\n",
              "      height: 32px;\n",
              "      padding: 0 0 0 0;\n",
              "      width: 32px;\n",
              "    }\n",
              "\n",
              "    .colab-df-convert:hover {\n",
              "      background-color: #E2EBFA;\n",
              "      box-shadow: 0px 1px 2px rgba(60, 64, 67, 0.3), 0px 1px 3px 1px rgba(60, 64, 67, 0.15);\n",
              "      fill: #174EA6;\n",
              "    }\n",
              "\n",
              "    [theme=dark] .colab-df-convert {\n",
              "      background-color: #3B4455;\n",
              "      fill: #D2E3FC;\n",
              "    }\n",
              "\n",
              "    [theme=dark] .colab-df-convert:hover {\n",
              "      background-color: #434B5C;\n",
              "      box-shadow: 0px 1px 3px 1px rgba(0, 0, 0, 0.15);\n",
              "      filter: drop-shadow(0px 1px 2px rgba(0, 0, 0, 0.3));\n",
              "      fill: #FFFFFF;\n",
              "    }\n",
              "  </style>\n",
              "\n",
              "      <script>\n",
              "        const buttonEl =\n",
              "          document.querySelector('#df-d4575a16-195f-41ae-a176-19f68aba4317 button.colab-df-convert');\n",
              "        buttonEl.style.display =\n",
              "          google.colab.kernel.accessAllowed ? 'block' : 'none';\n",
              "\n",
              "        async function convertToInteractive(key) {\n",
              "          const element = document.querySelector('#df-d4575a16-195f-41ae-a176-19f68aba4317');\n",
              "          const dataTable =\n",
              "            await google.colab.kernel.invokeFunction('convertToInteractive',\n",
              "                                                     [key], {});\n",
              "          if (!dataTable) return;\n",
              "\n",
              "          const docLinkHtml = 'Like what you see? Visit the ' +\n",
              "            '<a target=\"_blank\" href=https://colab.research.google.com/notebooks/data_table.ipynb>data table notebook</a>'\n",
              "            + ' to learn more about interactive tables.';\n",
              "          element.innerHTML = '';\n",
              "          dataTable['output_type'] = 'display_data';\n",
              "          await google.colab.output.renderOutput(dataTable, element);\n",
              "          const docLink = document.createElement('div');\n",
              "          docLink.innerHTML = docLinkHtml;\n",
              "          element.appendChild(docLink);\n",
              "        }\n",
              "      </script>\n",
              "    </div>\n",
              "  </div>\n",
              "  "
            ]
          },
          "metadata": {},
          "execution_count": 3
        }
      ]
    },
    {
      "cell_type": "code",
      "source": [
        "print(len(data))"
      ],
      "metadata": {
        "colab": {
          "base_uri": "https://localhost:8080/"
        },
        "id": "GPyRx32lyhCX",
        "outputId": "ece2d166-c781-4859-d33b-d9677b2c6f0a"
      },
      "execution_count": 4,
      "outputs": [
        {
          "output_type": "stream",
          "name": "stdout",
          "text": [
            "510\n"
          ]
        }
      ]
    },
    {
      "cell_type": "code",
      "source": [
        "data.dtypes"
      ],
      "metadata": {
        "colab": {
          "base_uri": "https://localhost:8080/"
        },
        "id": "an5hawHo_49c",
        "outputId": "1c98546a-deda-45ea-e2b9-ea538f60462d"
      },
      "execution_count": 5,
      "outputs": [
        {
          "output_type": "execute_result",
          "data": {
            "text/plain": [
              "Timestamp                                                                                object\n",
              "Name (with initials)                                                                     object\n",
              "Age                                                                                      object\n",
              "Gender                                                                                   object\n",
              "Professional Status                                                                      object\n",
              "How often are you able to stay focused on the present moment?                            object\n",
              "How much time would you spend on using your mobile phone per day?                        object\n",
              "Do you fall asleep easily at night?(The average person falls asleep in 7-10 minutes).    object\n",
              "On average, how many hours would you sleep per day?                                      object\n",
              "How would you feel while facing trivial issues(not serious issues) ?                     object\n",
              "During work hours(or while studying), how would you handle the task?                     object\n",
              "Felt that you were unable to control important things in your life?                      object\n",
              "Give some reasons for your stress.                                                       object\n",
              "Would you speak openly about your feelings when angry or stressed?                       object\n",
              "Do you feel like withdrawing from family, friends and isolating yourself?                object\n",
              "Would you face any health issues because of your stress?                                 object\n",
              "How do you rate your stress level?                                                       object\n",
              "What does stress feel like to you?                                                       object\n",
              "Who is one person that understands your stress?                                          object\n",
              "Where and when do you feel most relaxed?                                                 object\n",
              "Unnamed: 20                                                                              object\n",
              "dtype: object"
            ]
          },
          "metadata": {},
          "execution_count": 5
        }
      ]
    },
    {
      "cell_type": "code",
      "source": [
        "data.shape"
      ],
      "metadata": {
        "colab": {
          "base_uri": "https://localhost:8080/"
        },
        "id": "yuFuJIdk_75L",
        "outputId": "6994e285-9e35-435c-e0f8-1df82d62b0a4"
      },
      "execution_count": 6,
      "outputs": [
        {
          "output_type": "execute_result",
          "data": {
            "text/plain": [
              "(510, 21)"
            ]
          },
          "metadata": {},
          "execution_count": 6
        }
      ]
    },
    {
      "cell_type": "code",
      "source": [
        "data.columns = ['new_col1', 'new_col2', 'new_col3', 'new_col4','new_col5','new_col6','new_col7','new_col8','new_col9','new_col10','new_col11','new_col12','new_col13','new_col14','new_col15','new_col16','new_col17','new_col18','new_col19','new_col20','new_col21']\n"
      ],
      "metadata": {
        "id": "6azarImpAVbm"
      },
      "execution_count": 7,
      "outputs": []
    },
    {
      "cell_type": "code",
      "source": [
        "data.head(2)"
      ],
      "metadata": {
        "colab": {
          "base_uri": "https://localhost:8080/",
          "height": 275
        },
        "id": "IRTlyIcWAyT8",
        "outputId": "775416b5-0c71-455a-9a3d-55aee548faf7"
      },
      "execution_count": 8,
      "outputs": [
        {
          "output_type": "execute_result",
          "data": {
            "text/plain": [
              "           new_col1       new_col2 new_col3 new_col4 new_col5       new_col6  \\\n",
              "0  04-07-2022 22:17    Sangeetha S    20-30   Female  Student  Almost Always   \n",
              "1  04-07-2022 22:20  Anto Jeffry A    20-30     Male  Student      Sometimes   \n",
              "\n",
              "  new_col7 new_col8   new_col9          new_col10  ...  new_col12  \\\n",
              "0  4-6 hrs      Yes  5-7 hours     Calm or normal  ...  Sometimes   \n",
              "1  6-7 hrs    Maybe  5-7 hours  Feeling irritated  ...  Sometimes   \n",
              "\n",
              "         new_col13  new_col14 new_col15 new_col16 new_col17  \\\n",
              "0    Work pressure  Sometimes        No        No    Medium   \n",
              "1  Personal issues  Sometimes       Yes       yes      High   \n",
              "\n",
              "               new_col18    new_col19       new_col20 new_col21  \n",
              "0           Restlessness     Yourself  While sleeping       NaN  \n",
              "1  Anxiety or depression  Best friend    While gaming       NaN  \n",
              "\n",
              "[2 rows x 21 columns]"
            ],
            "text/html": [
              "\n",
              "  <div id=\"df-16184e11-999f-47ad-9a34-965e19c14f70\">\n",
              "    <div class=\"colab-df-container\">\n",
              "      <div>\n",
              "<style scoped>\n",
              "    .dataframe tbody tr th:only-of-type {\n",
              "        vertical-align: middle;\n",
              "    }\n",
              "\n",
              "    .dataframe tbody tr th {\n",
              "        vertical-align: top;\n",
              "    }\n",
              "\n",
              "    .dataframe thead th {\n",
              "        text-align: right;\n",
              "    }\n",
              "</style>\n",
              "<table border=\"1\" class=\"dataframe\">\n",
              "  <thead>\n",
              "    <tr style=\"text-align: right;\">\n",
              "      <th></th>\n",
              "      <th>new_col1</th>\n",
              "      <th>new_col2</th>\n",
              "      <th>new_col3</th>\n",
              "      <th>new_col4</th>\n",
              "      <th>new_col5</th>\n",
              "      <th>new_col6</th>\n",
              "      <th>new_col7</th>\n",
              "      <th>new_col8</th>\n",
              "      <th>new_col9</th>\n",
              "      <th>new_col10</th>\n",
              "      <th>...</th>\n",
              "      <th>new_col12</th>\n",
              "      <th>new_col13</th>\n",
              "      <th>new_col14</th>\n",
              "      <th>new_col15</th>\n",
              "      <th>new_col16</th>\n",
              "      <th>new_col17</th>\n",
              "      <th>new_col18</th>\n",
              "      <th>new_col19</th>\n",
              "      <th>new_col20</th>\n",
              "      <th>new_col21</th>\n",
              "    </tr>\n",
              "  </thead>\n",
              "  <tbody>\n",
              "    <tr>\n",
              "      <th>0</th>\n",
              "      <td>04-07-2022 22:17</td>\n",
              "      <td>Sangeetha S</td>\n",
              "      <td>20-30</td>\n",
              "      <td>Female</td>\n",
              "      <td>Student</td>\n",
              "      <td>Almost Always</td>\n",
              "      <td>4-6 hrs</td>\n",
              "      <td>Yes</td>\n",
              "      <td>5-7 hours</td>\n",
              "      <td>Calm or normal</td>\n",
              "      <td>...</td>\n",
              "      <td>Sometimes</td>\n",
              "      <td>Work pressure</td>\n",
              "      <td>Sometimes</td>\n",
              "      <td>No</td>\n",
              "      <td>No</td>\n",
              "      <td>Medium</td>\n",
              "      <td>Restlessness</td>\n",
              "      <td>Yourself</td>\n",
              "      <td>While sleeping</td>\n",
              "      <td>NaN</td>\n",
              "    </tr>\n",
              "    <tr>\n",
              "      <th>1</th>\n",
              "      <td>04-07-2022 22:20</td>\n",
              "      <td>Anto Jeffry A</td>\n",
              "      <td>20-30</td>\n",
              "      <td>Male</td>\n",
              "      <td>Student</td>\n",
              "      <td>Sometimes</td>\n",
              "      <td>6-7 hrs</td>\n",
              "      <td>Maybe</td>\n",
              "      <td>5-7 hours</td>\n",
              "      <td>Feeling irritated</td>\n",
              "      <td>...</td>\n",
              "      <td>Sometimes</td>\n",
              "      <td>Personal issues</td>\n",
              "      <td>Sometimes</td>\n",
              "      <td>Yes</td>\n",
              "      <td>yes</td>\n",
              "      <td>High</td>\n",
              "      <td>Anxiety or depression</td>\n",
              "      <td>Best friend</td>\n",
              "      <td>While gaming</td>\n",
              "      <td>NaN</td>\n",
              "    </tr>\n",
              "  </tbody>\n",
              "</table>\n",
              "<p>2 rows × 21 columns</p>\n",
              "</div>\n",
              "      <button class=\"colab-df-convert\" onclick=\"convertToInteractive('df-16184e11-999f-47ad-9a34-965e19c14f70')\"\n",
              "              title=\"Convert this dataframe to an interactive table.\"\n",
              "              style=\"display:none;\">\n",
              "        \n",
              "  <svg xmlns=\"http://www.w3.org/2000/svg\" height=\"24px\"viewBox=\"0 0 24 24\"\n",
              "       width=\"24px\">\n",
              "    <path d=\"M0 0h24v24H0V0z\" fill=\"none\"/>\n",
              "    <path d=\"M18.56 5.44l.94 2.06.94-2.06 2.06-.94-2.06-.94-.94-2.06-.94 2.06-2.06.94zm-11 1L8.5 8.5l.94-2.06 2.06-.94-2.06-.94L8.5 2.5l-.94 2.06-2.06.94zm10 10l.94 2.06.94-2.06 2.06-.94-2.06-.94-.94-2.06-.94 2.06-2.06.94z\"/><path d=\"M17.41 7.96l-1.37-1.37c-.4-.4-.92-.59-1.43-.59-.52 0-1.04.2-1.43.59L10.3 9.45l-7.72 7.72c-.78.78-.78 2.05 0 2.83L4 21.41c.39.39.9.59 1.41.59.51 0 1.02-.2 1.41-.59l7.78-7.78 2.81-2.81c.8-.78.8-2.07 0-2.86zM5.41 20L4 18.59l7.72-7.72 1.47 1.35L5.41 20z\"/>\n",
              "  </svg>\n",
              "      </button>\n",
              "      \n",
              "  <style>\n",
              "    .colab-df-container {\n",
              "      display:flex;\n",
              "      flex-wrap:wrap;\n",
              "      gap: 12px;\n",
              "    }\n",
              "\n",
              "    .colab-df-convert {\n",
              "      background-color: #E8F0FE;\n",
              "      border: none;\n",
              "      border-radius: 50%;\n",
              "      cursor: pointer;\n",
              "      display: none;\n",
              "      fill: #1967D2;\n",
              "      height: 32px;\n",
              "      padding: 0 0 0 0;\n",
              "      width: 32px;\n",
              "    }\n",
              "\n",
              "    .colab-df-convert:hover {\n",
              "      background-color: #E2EBFA;\n",
              "      box-shadow: 0px 1px 2px rgba(60, 64, 67, 0.3), 0px 1px 3px 1px rgba(60, 64, 67, 0.15);\n",
              "      fill: #174EA6;\n",
              "    }\n",
              "\n",
              "    [theme=dark] .colab-df-convert {\n",
              "      background-color: #3B4455;\n",
              "      fill: #D2E3FC;\n",
              "    }\n",
              "\n",
              "    [theme=dark] .colab-df-convert:hover {\n",
              "      background-color: #434B5C;\n",
              "      box-shadow: 0px 1px 3px 1px rgba(0, 0, 0, 0.15);\n",
              "      filter: drop-shadow(0px 1px 2px rgba(0, 0, 0, 0.3));\n",
              "      fill: #FFFFFF;\n",
              "    }\n",
              "  </style>\n",
              "\n",
              "      <script>\n",
              "        const buttonEl =\n",
              "          document.querySelector('#df-16184e11-999f-47ad-9a34-965e19c14f70 button.colab-df-convert');\n",
              "        buttonEl.style.display =\n",
              "          google.colab.kernel.accessAllowed ? 'block' : 'none';\n",
              "\n",
              "        async function convertToInteractive(key) {\n",
              "          const element = document.querySelector('#df-16184e11-999f-47ad-9a34-965e19c14f70');\n",
              "          const dataTable =\n",
              "            await google.colab.kernel.invokeFunction('convertToInteractive',\n",
              "                                                     [key], {});\n",
              "          if (!dataTable) return;\n",
              "\n",
              "          const docLinkHtml = 'Like what you see? Visit the ' +\n",
              "            '<a target=\"_blank\" href=https://colab.research.google.com/notebooks/data_table.ipynb>data table notebook</a>'\n",
              "            + ' to learn more about interactive tables.';\n",
              "          element.innerHTML = '';\n",
              "          dataTable['output_type'] = 'display_data';\n",
              "          await google.colab.output.renderOutput(dataTable, element);\n",
              "          const docLink = document.createElement('div');\n",
              "          docLink.innerHTML = docLinkHtml;\n",
              "          element.appendChild(docLink);\n",
              "        }\n",
              "      </script>\n",
              "    </div>\n",
              "  </div>\n",
              "  "
            ]
          },
          "metadata": {},
          "execution_count": 8
        }
      ]
    },
    {
      "cell_type": "code",
      "source": [
        "data.drop(['new_col1', 'new_col2','new_col21'], axis = 1, inplace=True)"
      ],
      "metadata": {
        "id": "hFjn0KHZA2qq"
      },
      "execution_count": 9,
      "outputs": []
    },
    {
      "cell_type": "code",
      "source": [
        "data.dtypes"
      ],
      "metadata": {
        "colab": {
          "base_uri": "https://localhost:8080/"
        },
        "id": "IZzJRcioBJ0G",
        "outputId": "67855973-de16-496f-94b2-d3c24583b18a"
      },
      "execution_count": 10,
      "outputs": [
        {
          "output_type": "execute_result",
          "data": {
            "text/plain": [
              "new_col3     object\n",
              "new_col4     object\n",
              "new_col5     object\n",
              "new_col6     object\n",
              "new_col7     object\n",
              "new_col8     object\n",
              "new_col9     object\n",
              "new_col10    object\n",
              "new_col11    object\n",
              "new_col12    object\n",
              "new_col13    object\n",
              "new_col14    object\n",
              "new_col15    object\n",
              "new_col16    object\n",
              "new_col17    object\n",
              "new_col18    object\n",
              "new_col19    object\n",
              "new_col20    object\n",
              "dtype: object"
            ]
          },
          "metadata": {},
          "execution_count": 10
        }
      ]
    },
    {
      "cell_type": "code",
      "source": [
        "from sklearn import preprocessing\n",
        "\n",
        "le = preprocessing.LabelEncoder()\n",
        "le.fit(data.new_col17)\n",
        "data['class'] = le.transform(data.new_col17)\n"
      ],
      "metadata": {
        "id": "qpus1luwBkE7"
      },
      "execution_count": 11,
      "outputs": []
    },
    {
      "cell_type": "code",
      "source": [
        "data.shape"
      ],
      "metadata": {
        "colab": {
          "base_uri": "https://localhost:8080/"
        },
        "id": "i822Fp-aERP-",
        "outputId": "85c86607-65ba-48c3-85a3-210d3e81b9d3"
      },
      "execution_count": 12,
      "outputs": [
        {
          "output_type": "execute_result",
          "data": {
            "text/plain": [
              "(510, 19)"
            ]
          },
          "metadata": {},
          "execution_count": 12
        }
      ]
    },
    {
      "cell_type": "code",
      "source": [
        "data.drop(['new_col17'], axis = 1 , inplace=True)"
      ],
      "metadata": {
        "id": "SyvXhQBcDWf9"
      },
      "execution_count": 13,
      "outputs": []
    },
    {
      "cell_type": "code",
      "source": [
        "data.head(10)"
      ],
      "metadata": {
        "colab": {
          "base_uri": "https://localhost:8080/",
          "height": 1000
        },
        "id": "8wRsVbBgDh-b",
        "outputId": "a8c0b322-3b0d-4231-fb04-ddb1291f9dc7"
      },
      "execution_count": 14,
      "outputs": [
        {
          "output_type": "execute_result",
          "data": {
            "text/plain": [
              "       new_col3 new_col4    new_col5       new_col6         new_col7 new_col8  \\\n",
              "0         20-30   Female     Student  Almost Always          4-6 hrs      Yes   \n",
              "1         20-30     Male     Student      Sometimes          6-7 hrs    Maybe   \n",
              "2         20-30     Male  Unemployed      Sometimes  More than 7 hrs      Yes   \n",
              "3         20-30     Male     Student  Almost Always   Less than 4hrs      Yes   \n",
              "4         20-30     Male     Student      Sometimes          4-6 hrs       No   \n",
              "5         20-30   Female     Student      Sometimes          4-6 hrs       No   \n",
              "6         20-30     Male     Student      Sometimes          6-7 hrs       No   \n",
              "7         20-30     Male     Student      Sometimes  More than 7 hrs    Maybe   \n",
              "8         20-30   Female     Student      Sometimes   Less than 4hrs       No   \n",
              "9  less than 15     Male     Student      Sometimes   Less than 4hrs       No   \n",
              "\n",
              "            new_col9          new_col10      new_col11  new_col12  \\\n",
              "0          5-7 hours     Calm or normal        Focused  Sometimes   \n",
              "1          5-7 hours  Feeling irritated    Distraction  Sometimes   \n",
              "2  less than 5 hours  Feeling irritated  Concentrating  Sometimes   \n",
              "3          7-8 hours     Calm or normal        Focused      Never   \n",
              "4          5-7 hours     Calm or normal        Focused     Always   \n",
              "5          7-8 hours  Feeling irritated        Focused      Often   \n",
              "6          5-7 hours  Feeling irritated    Distraction  Sometimes   \n",
              "7          5-7 hours     Calm or normal  Concentrating  Sometimes   \n",
              "8  More than 8 hours     Calm or normal  Concentrating      Never   \n",
              "9          7-8 hours              Angry    Distraction  Sometimes   \n",
              "\n",
              "         new_col13  new_col14 new_col15 new_col16  \\\n",
              "0    Work pressure  Sometimes        No        No   \n",
              "1  Personal issues  Sometimes       Yes       yes   \n",
              "2  Personal issues      Often        No        No   \n",
              "3  Personal issues  Sometimes        No        No   \n",
              "4  Personal issues  Sometimes        No        No   \n",
              "5  Personal issues     Always        No        No   \n",
              "6  Personal issues  Sometimes       Yes       yes   \n",
              "7    Work pressure      Often        No        No   \n",
              "8    Work pressure     Always        No        No   \n",
              "9    Work pressure  Sometimes        No        No   \n",
              "\n",
              "                     new_col18         new_col19  \\\n",
              "0                 Restlessness          Yourself   \n",
              "1        Anxiety or depression       Best friend   \n",
              "2                 Restlessness       Best friend   \n",
              "3  Lack of motivation or focus          Yourself   \n",
              "4  Lack of motivation or focus       Best friend   \n",
              "5  Lack of motivation or focus  Father or mother   \n",
              "6        Anxiety or depression       Best friend   \n",
              "7  Lack of motivation or focus       Best friend   \n",
              "8                 Restlessness              None   \n",
              "9                 Restlessness           Brother   \n",
              "\n",
              "                                         new_col20  class  \n",
              "0                                   While sleeping      2  \n",
              "1                                     While gaming      0  \n",
              "2  While spending time with your friends or family      2  \n",
              "3  While spending time with your friends or family      1  \n",
              "4  While spending time with your friends or family      2  \n",
              "5                                   While sleeping      2  \n",
              "6  While spending time with your friends or family      0  \n",
              "7  While spending time with your friends or family      2  \n",
              "8                                   While sleeping      2  \n",
              "9  While spending time with your friends or family      2  "
            ],
            "text/html": [
              "\n",
              "  <div id=\"df-794d1339-c2fe-4c02-8809-09b2fb95e92a\">\n",
              "    <div class=\"colab-df-container\">\n",
              "      <div>\n",
              "<style scoped>\n",
              "    .dataframe tbody tr th:only-of-type {\n",
              "        vertical-align: middle;\n",
              "    }\n",
              "\n",
              "    .dataframe tbody tr th {\n",
              "        vertical-align: top;\n",
              "    }\n",
              "\n",
              "    .dataframe thead th {\n",
              "        text-align: right;\n",
              "    }\n",
              "</style>\n",
              "<table border=\"1\" class=\"dataframe\">\n",
              "  <thead>\n",
              "    <tr style=\"text-align: right;\">\n",
              "      <th></th>\n",
              "      <th>new_col3</th>\n",
              "      <th>new_col4</th>\n",
              "      <th>new_col5</th>\n",
              "      <th>new_col6</th>\n",
              "      <th>new_col7</th>\n",
              "      <th>new_col8</th>\n",
              "      <th>new_col9</th>\n",
              "      <th>new_col10</th>\n",
              "      <th>new_col11</th>\n",
              "      <th>new_col12</th>\n",
              "      <th>new_col13</th>\n",
              "      <th>new_col14</th>\n",
              "      <th>new_col15</th>\n",
              "      <th>new_col16</th>\n",
              "      <th>new_col18</th>\n",
              "      <th>new_col19</th>\n",
              "      <th>new_col20</th>\n",
              "      <th>class</th>\n",
              "    </tr>\n",
              "  </thead>\n",
              "  <tbody>\n",
              "    <tr>\n",
              "      <th>0</th>\n",
              "      <td>20-30</td>\n",
              "      <td>Female</td>\n",
              "      <td>Student</td>\n",
              "      <td>Almost Always</td>\n",
              "      <td>4-6 hrs</td>\n",
              "      <td>Yes</td>\n",
              "      <td>5-7 hours</td>\n",
              "      <td>Calm or normal</td>\n",
              "      <td>Focused</td>\n",
              "      <td>Sometimes</td>\n",
              "      <td>Work pressure</td>\n",
              "      <td>Sometimes</td>\n",
              "      <td>No</td>\n",
              "      <td>No</td>\n",
              "      <td>Restlessness</td>\n",
              "      <td>Yourself</td>\n",
              "      <td>While sleeping</td>\n",
              "      <td>2</td>\n",
              "    </tr>\n",
              "    <tr>\n",
              "      <th>1</th>\n",
              "      <td>20-30</td>\n",
              "      <td>Male</td>\n",
              "      <td>Student</td>\n",
              "      <td>Sometimes</td>\n",
              "      <td>6-7 hrs</td>\n",
              "      <td>Maybe</td>\n",
              "      <td>5-7 hours</td>\n",
              "      <td>Feeling irritated</td>\n",
              "      <td>Distraction</td>\n",
              "      <td>Sometimes</td>\n",
              "      <td>Personal issues</td>\n",
              "      <td>Sometimes</td>\n",
              "      <td>Yes</td>\n",
              "      <td>yes</td>\n",
              "      <td>Anxiety or depression</td>\n",
              "      <td>Best friend</td>\n",
              "      <td>While gaming</td>\n",
              "      <td>0</td>\n",
              "    </tr>\n",
              "    <tr>\n",
              "      <th>2</th>\n",
              "      <td>20-30</td>\n",
              "      <td>Male</td>\n",
              "      <td>Unemployed</td>\n",
              "      <td>Sometimes</td>\n",
              "      <td>More than 7 hrs</td>\n",
              "      <td>Yes</td>\n",
              "      <td>less than 5 hours</td>\n",
              "      <td>Feeling irritated</td>\n",
              "      <td>Concentrating</td>\n",
              "      <td>Sometimes</td>\n",
              "      <td>Personal issues</td>\n",
              "      <td>Often</td>\n",
              "      <td>No</td>\n",
              "      <td>No</td>\n",
              "      <td>Restlessness</td>\n",
              "      <td>Best friend</td>\n",
              "      <td>While spending time with your friends or family</td>\n",
              "      <td>2</td>\n",
              "    </tr>\n",
              "    <tr>\n",
              "      <th>3</th>\n",
              "      <td>20-30</td>\n",
              "      <td>Male</td>\n",
              "      <td>Student</td>\n",
              "      <td>Almost Always</td>\n",
              "      <td>Less than 4hrs</td>\n",
              "      <td>Yes</td>\n",
              "      <td>7-8 hours</td>\n",
              "      <td>Calm or normal</td>\n",
              "      <td>Focused</td>\n",
              "      <td>Never</td>\n",
              "      <td>Personal issues</td>\n",
              "      <td>Sometimes</td>\n",
              "      <td>No</td>\n",
              "      <td>No</td>\n",
              "      <td>Lack of motivation or focus</td>\n",
              "      <td>Yourself</td>\n",
              "      <td>While spending time with your friends or family</td>\n",
              "      <td>1</td>\n",
              "    </tr>\n",
              "    <tr>\n",
              "      <th>4</th>\n",
              "      <td>20-30</td>\n",
              "      <td>Male</td>\n",
              "      <td>Student</td>\n",
              "      <td>Sometimes</td>\n",
              "      <td>4-6 hrs</td>\n",
              "      <td>No</td>\n",
              "      <td>5-7 hours</td>\n",
              "      <td>Calm or normal</td>\n",
              "      <td>Focused</td>\n",
              "      <td>Always</td>\n",
              "      <td>Personal issues</td>\n",
              "      <td>Sometimes</td>\n",
              "      <td>No</td>\n",
              "      <td>No</td>\n",
              "      <td>Lack of motivation or focus</td>\n",
              "      <td>Best friend</td>\n",
              "      <td>While spending time with your friends or family</td>\n",
              "      <td>2</td>\n",
              "    </tr>\n",
              "    <tr>\n",
              "      <th>5</th>\n",
              "      <td>20-30</td>\n",
              "      <td>Female</td>\n",
              "      <td>Student</td>\n",
              "      <td>Sometimes</td>\n",
              "      <td>4-6 hrs</td>\n",
              "      <td>No</td>\n",
              "      <td>7-8 hours</td>\n",
              "      <td>Feeling irritated</td>\n",
              "      <td>Focused</td>\n",
              "      <td>Often</td>\n",
              "      <td>Personal issues</td>\n",
              "      <td>Always</td>\n",
              "      <td>No</td>\n",
              "      <td>No</td>\n",
              "      <td>Lack of motivation or focus</td>\n",
              "      <td>Father or mother</td>\n",
              "      <td>While sleeping</td>\n",
              "      <td>2</td>\n",
              "    </tr>\n",
              "    <tr>\n",
              "      <th>6</th>\n",
              "      <td>20-30</td>\n",
              "      <td>Male</td>\n",
              "      <td>Student</td>\n",
              "      <td>Sometimes</td>\n",
              "      <td>6-7 hrs</td>\n",
              "      <td>No</td>\n",
              "      <td>5-7 hours</td>\n",
              "      <td>Feeling irritated</td>\n",
              "      <td>Distraction</td>\n",
              "      <td>Sometimes</td>\n",
              "      <td>Personal issues</td>\n",
              "      <td>Sometimes</td>\n",
              "      <td>Yes</td>\n",
              "      <td>yes</td>\n",
              "      <td>Anxiety or depression</td>\n",
              "      <td>Best friend</td>\n",
              "      <td>While spending time with your friends or family</td>\n",
              "      <td>0</td>\n",
              "    </tr>\n",
              "    <tr>\n",
              "      <th>7</th>\n",
              "      <td>20-30</td>\n",
              "      <td>Male</td>\n",
              "      <td>Student</td>\n",
              "      <td>Sometimes</td>\n",
              "      <td>More than 7 hrs</td>\n",
              "      <td>Maybe</td>\n",
              "      <td>5-7 hours</td>\n",
              "      <td>Calm or normal</td>\n",
              "      <td>Concentrating</td>\n",
              "      <td>Sometimes</td>\n",
              "      <td>Work pressure</td>\n",
              "      <td>Often</td>\n",
              "      <td>No</td>\n",
              "      <td>No</td>\n",
              "      <td>Lack of motivation or focus</td>\n",
              "      <td>Best friend</td>\n",
              "      <td>While spending time with your friends or family</td>\n",
              "      <td>2</td>\n",
              "    </tr>\n",
              "    <tr>\n",
              "      <th>8</th>\n",
              "      <td>20-30</td>\n",
              "      <td>Female</td>\n",
              "      <td>Student</td>\n",
              "      <td>Sometimes</td>\n",
              "      <td>Less than 4hrs</td>\n",
              "      <td>No</td>\n",
              "      <td>More than 8 hours</td>\n",
              "      <td>Calm or normal</td>\n",
              "      <td>Concentrating</td>\n",
              "      <td>Never</td>\n",
              "      <td>Work pressure</td>\n",
              "      <td>Always</td>\n",
              "      <td>No</td>\n",
              "      <td>No</td>\n",
              "      <td>Restlessness</td>\n",
              "      <td>None</td>\n",
              "      <td>While sleeping</td>\n",
              "      <td>2</td>\n",
              "    </tr>\n",
              "    <tr>\n",
              "      <th>9</th>\n",
              "      <td>less than 15</td>\n",
              "      <td>Male</td>\n",
              "      <td>Student</td>\n",
              "      <td>Sometimes</td>\n",
              "      <td>Less than 4hrs</td>\n",
              "      <td>No</td>\n",
              "      <td>7-8 hours</td>\n",
              "      <td>Angry</td>\n",
              "      <td>Distraction</td>\n",
              "      <td>Sometimes</td>\n",
              "      <td>Work pressure</td>\n",
              "      <td>Sometimes</td>\n",
              "      <td>No</td>\n",
              "      <td>No</td>\n",
              "      <td>Restlessness</td>\n",
              "      <td>Brother</td>\n",
              "      <td>While spending time with your friends or family</td>\n",
              "      <td>2</td>\n",
              "    </tr>\n",
              "  </tbody>\n",
              "</table>\n",
              "</div>\n",
              "      <button class=\"colab-df-convert\" onclick=\"convertToInteractive('df-794d1339-c2fe-4c02-8809-09b2fb95e92a')\"\n",
              "              title=\"Convert this dataframe to an interactive table.\"\n",
              "              style=\"display:none;\">\n",
              "        \n",
              "  <svg xmlns=\"http://www.w3.org/2000/svg\" height=\"24px\"viewBox=\"0 0 24 24\"\n",
              "       width=\"24px\">\n",
              "    <path d=\"M0 0h24v24H0V0z\" fill=\"none\"/>\n",
              "    <path d=\"M18.56 5.44l.94 2.06.94-2.06 2.06-.94-2.06-.94-.94-2.06-.94 2.06-2.06.94zm-11 1L8.5 8.5l.94-2.06 2.06-.94-2.06-.94L8.5 2.5l-.94 2.06-2.06.94zm10 10l.94 2.06.94-2.06 2.06-.94-2.06-.94-.94-2.06-.94 2.06-2.06.94z\"/><path d=\"M17.41 7.96l-1.37-1.37c-.4-.4-.92-.59-1.43-.59-.52 0-1.04.2-1.43.59L10.3 9.45l-7.72 7.72c-.78.78-.78 2.05 0 2.83L4 21.41c.39.39.9.59 1.41.59.51 0 1.02-.2 1.41-.59l7.78-7.78 2.81-2.81c.8-.78.8-2.07 0-2.86zM5.41 20L4 18.59l7.72-7.72 1.47 1.35L5.41 20z\"/>\n",
              "  </svg>\n",
              "      </button>\n",
              "      \n",
              "  <style>\n",
              "    .colab-df-container {\n",
              "      display:flex;\n",
              "      flex-wrap:wrap;\n",
              "      gap: 12px;\n",
              "    }\n",
              "\n",
              "    .colab-df-convert {\n",
              "      background-color: #E8F0FE;\n",
              "      border: none;\n",
              "      border-radius: 50%;\n",
              "      cursor: pointer;\n",
              "      display: none;\n",
              "      fill: #1967D2;\n",
              "      height: 32px;\n",
              "      padding: 0 0 0 0;\n",
              "      width: 32px;\n",
              "    }\n",
              "\n",
              "    .colab-df-convert:hover {\n",
              "      background-color: #E2EBFA;\n",
              "      box-shadow: 0px 1px 2px rgba(60, 64, 67, 0.3), 0px 1px 3px 1px rgba(60, 64, 67, 0.15);\n",
              "      fill: #174EA6;\n",
              "    }\n",
              "\n",
              "    [theme=dark] .colab-df-convert {\n",
              "      background-color: #3B4455;\n",
              "      fill: #D2E3FC;\n",
              "    }\n",
              "\n",
              "    [theme=dark] .colab-df-convert:hover {\n",
              "      background-color: #434B5C;\n",
              "      box-shadow: 0px 1px 3px 1px rgba(0, 0, 0, 0.15);\n",
              "      filter: drop-shadow(0px 1px 2px rgba(0, 0, 0, 0.3));\n",
              "      fill: #FFFFFF;\n",
              "    }\n",
              "  </style>\n",
              "\n",
              "      <script>\n",
              "        const buttonEl =\n",
              "          document.querySelector('#df-794d1339-c2fe-4c02-8809-09b2fb95e92a button.colab-df-convert');\n",
              "        buttonEl.style.display =\n",
              "          google.colab.kernel.accessAllowed ? 'block' : 'none';\n",
              "\n",
              "        async function convertToInteractive(key) {\n",
              "          const element = document.querySelector('#df-794d1339-c2fe-4c02-8809-09b2fb95e92a');\n",
              "          const dataTable =\n",
              "            await google.colab.kernel.invokeFunction('convertToInteractive',\n",
              "                                                     [key], {});\n",
              "          if (!dataTable) return;\n",
              "\n",
              "          const docLinkHtml = 'Like what you see? Visit the ' +\n",
              "            '<a target=\"_blank\" href=https://colab.research.google.com/notebooks/data_table.ipynb>data table notebook</a>'\n",
              "            + ' to learn more about interactive tables.';\n",
              "          element.innerHTML = '';\n",
              "          dataTable['output_type'] = 'display_data';\n",
              "          await google.colab.output.renderOutput(dataTable, element);\n",
              "          const docLink = document.createElement('div');\n",
              "          docLink.innerHTML = docLinkHtml;\n",
              "          element.appendChild(docLink);\n",
              "        }\n",
              "      </script>\n",
              "    </div>\n",
              "  </div>\n",
              "  "
            ]
          },
          "metadata": {},
          "execution_count": 14
        }
      ]
    },
    {
      "cell_type": "code",
      "source": [
        "data.shape"
      ],
      "metadata": {
        "colab": {
          "base_uri": "https://localhost:8080/"
        },
        "id": "PYrUkqSyEIFu",
        "outputId": "5062de65-9018-46d6-f12d-6915d7aaf300"
      },
      "execution_count": 15,
      "outputs": [
        {
          "output_type": "execute_result",
          "data": {
            "text/plain": [
              "(510, 18)"
            ]
          },
          "metadata": {},
          "execution_count": 15
        }
      ]
    },
    {
      "cell_type": "code",
      "source": [
        "data.isnull().sum()"
      ],
      "metadata": {
        "colab": {
          "base_uri": "https://localhost:8080/"
        },
        "id": "NSzqveXSFLtc",
        "outputId": "0ce109b7-b8e8-49f4-a579-42fa50e9c9aa"
      },
      "execution_count": 16,
      "outputs": [
        {
          "output_type": "execute_result",
          "data": {
            "text/plain": [
              "new_col3     0\n",
              "new_col4     0\n",
              "new_col5     0\n",
              "new_col6     0\n",
              "new_col7     0\n",
              "new_col8     0\n",
              "new_col9     0\n",
              "new_col10    0\n",
              "new_col11    0\n",
              "new_col12    2\n",
              "new_col13    0\n",
              "new_col14    3\n",
              "new_col15    4\n",
              "new_col16    0\n",
              "new_col18    3\n",
              "new_col19    3\n",
              "new_col20    0\n",
              "class        0\n",
              "dtype: int64"
            ]
          },
          "metadata": {},
          "execution_count": 16
        }
      ]
    },
    {
      "cell_type": "code",
      "source": [
        "d = data.dropna()"
      ],
      "metadata": {
        "id": "HRl_mIPpFZr5"
      },
      "execution_count": 17,
      "outputs": []
    },
    {
      "cell_type": "code",
      "source": [
        "d.shape"
      ],
      "metadata": {
        "colab": {
          "base_uri": "https://localhost:8080/"
        },
        "id": "NAh_C6uHFeJ6",
        "outputId": "bf6b2551-8a4e-45f2-80f1-b15efb25f51f"
      },
      "execution_count": 18,
      "outputs": [
        {
          "output_type": "execute_result",
          "data": {
            "text/plain": [
              "(505, 18)"
            ]
          },
          "metadata": {},
          "execution_count": 18
        }
      ]
    },
    {
      "cell_type": "code",
      "source": [
        "d.isnull().sum()"
      ],
      "metadata": {
        "colab": {
          "base_uri": "https://localhost:8080/"
        },
        "id": "73DMXIDHFisq",
        "outputId": "5a2d7e62-cf2e-48a3-9726-777d7131d75c"
      },
      "execution_count": 19,
      "outputs": [
        {
          "output_type": "execute_result",
          "data": {
            "text/plain": [
              "new_col3     0\n",
              "new_col4     0\n",
              "new_col5     0\n",
              "new_col6     0\n",
              "new_col7     0\n",
              "new_col8     0\n",
              "new_col9     0\n",
              "new_col10    0\n",
              "new_col11    0\n",
              "new_col12    0\n",
              "new_col13    0\n",
              "new_col14    0\n",
              "new_col15    0\n",
              "new_col16    0\n",
              "new_col18    0\n",
              "new_col19    0\n",
              "new_col20    0\n",
              "class        0\n",
              "dtype: int64"
            ]
          },
          "metadata": {},
          "execution_count": 19
        }
      ]
    },
    {
      "cell_type": "code",
      "source": [
        "d.info()"
      ],
      "metadata": {
        "colab": {
          "base_uri": "https://localhost:8080/"
        },
        "id": "dQ3IELWhFkGS",
        "outputId": "8c5c53d6-9400-4e8f-eaff-ec1bcc020831"
      },
      "execution_count": 20,
      "outputs": [
        {
          "output_type": "stream",
          "name": "stdout",
          "text": [
            "<class 'pandas.core.frame.DataFrame'>\n",
            "Int64Index: 505 entries, 0 to 509\n",
            "Data columns (total 18 columns):\n",
            " #   Column     Non-Null Count  Dtype \n",
            "---  ------     --------------  ----- \n",
            " 0   new_col3   505 non-null    object\n",
            " 1   new_col4   505 non-null    object\n",
            " 2   new_col5   505 non-null    object\n",
            " 3   new_col6   505 non-null    object\n",
            " 4   new_col7   505 non-null    object\n",
            " 5   new_col8   505 non-null    object\n",
            " 6   new_col9   505 non-null    object\n",
            " 7   new_col10  505 non-null    object\n",
            " 8   new_col11  505 non-null    object\n",
            " 9   new_col12  505 non-null    object\n",
            " 10  new_col13  505 non-null    object\n",
            " 11  new_col14  505 non-null    object\n",
            " 12  new_col15  505 non-null    object\n",
            " 13  new_col16  505 non-null    object\n",
            " 14  new_col18  505 non-null    object\n",
            " 15  new_col19  505 non-null    object\n",
            " 16  new_col20  505 non-null    object\n",
            " 17  class      505 non-null    int64 \n",
            "dtypes: int64(1), object(17)\n",
            "memory usage: 75.0+ KB\n"
          ]
        }
      ]
    },
    {
      "cell_type": "code",
      "source": [
        "new_df =d"
      ],
      "metadata": {
        "id": "5U3XIY4Ta3Pd"
      },
      "execution_count": 21,
      "outputs": []
    },
    {
      "cell_type": "code",
      "source": [
        "new_df.head(2)"
      ],
      "metadata": {
        "colab": {
          "base_uri": "https://localhost:8080/",
          "height": 211
        },
        "id": "C-eAzwwLa_u0",
        "outputId": "fe6f7c68-f4ce-42ff-8d6d-2db08162e7a0"
      },
      "execution_count": 22,
      "outputs": [
        {
          "output_type": "execute_result",
          "data": {
            "text/plain": [
              "  new_col3 new_col4 new_col5       new_col6 new_col7 new_col8   new_col9  \\\n",
              "0    20-30   Female  Student  Almost Always  4-6 hrs      Yes  5-7 hours   \n",
              "1    20-30     Male  Student      Sometimes  6-7 hrs    Maybe  5-7 hours   \n",
              "\n",
              "           new_col10    new_col11  new_col12        new_col13  new_col14  \\\n",
              "0     Calm or normal      Focused  Sometimes    Work pressure  Sometimes   \n",
              "1  Feeling irritated  Distraction  Sometimes  Personal issues  Sometimes   \n",
              "\n",
              "  new_col15 new_col16              new_col18    new_col19       new_col20  \\\n",
              "0        No        No           Restlessness     Yourself  While sleeping   \n",
              "1       Yes       yes  Anxiety or depression  Best friend    While gaming   \n",
              "\n",
              "   class  \n",
              "0      2  \n",
              "1      0  "
            ],
            "text/html": [
              "\n",
              "  <div id=\"df-6740a4fc-4265-46c9-b119-0a52de0da6f0\">\n",
              "    <div class=\"colab-df-container\">\n",
              "      <div>\n",
              "<style scoped>\n",
              "    .dataframe tbody tr th:only-of-type {\n",
              "        vertical-align: middle;\n",
              "    }\n",
              "\n",
              "    .dataframe tbody tr th {\n",
              "        vertical-align: top;\n",
              "    }\n",
              "\n",
              "    .dataframe thead th {\n",
              "        text-align: right;\n",
              "    }\n",
              "</style>\n",
              "<table border=\"1\" class=\"dataframe\">\n",
              "  <thead>\n",
              "    <tr style=\"text-align: right;\">\n",
              "      <th></th>\n",
              "      <th>new_col3</th>\n",
              "      <th>new_col4</th>\n",
              "      <th>new_col5</th>\n",
              "      <th>new_col6</th>\n",
              "      <th>new_col7</th>\n",
              "      <th>new_col8</th>\n",
              "      <th>new_col9</th>\n",
              "      <th>new_col10</th>\n",
              "      <th>new_col11</th>\n",
              "      <th>new_col12</th>\n",
              "      <th>new_col13</th>\n",
              "      <th>new_col14</th>\n",
              "      <th>new_col15</th>\n",
              "      <th>new_col16</th>\n",
              "      <th>new_col18</th>\n",
              "      <th>new_col19</th>\n",
              "      <th>new_col20</th>\n",
              "      <th>class</th>\n",
              "    </tr>\n",
              "  </thead>\n",
              "  <tbody>\n",
              "    <tr>\n",
              "      <th>0</th>\n",
              "      <td>20-30</td>\n",
              "      <td>Female</td>\n",
              "      <td>Student</td>\n",
              "      <td>Almost Always</td>\n",
              "      <td>4-6 hrs</td>\n",
              "      <td>Yes</td>\n",
              "      <td>5-7 hours</td>\n",
              "      <td>Calm or normal</td>\n",
              "      <td>Focused</td>\n",
              "      <td>Sometimes</td>\n",
              "      <td>Work pressure</td>\n",
              "      <td>Sometimes</td>\n",
              "      <td>No</td>\n",
              "      <td>No</td>\n",
              "      <td>Restlessness</td>\n",
              "      <td>Yourself</td>\n",
              "      <td>While sleeping</td>\n",
              "      <td>2</td>\n",
              "    </tr>\n",
              "    <tr>\n",
              "      <th>1</th>\n",
              "      <td>20-30</td>\n",
              "      <td>Male</td>\n",
              "      <td>Student</td>\n",
              "      <td>Sometimes</td>\n",
              "      <td>6-7 hrs</td>\n",
              "      <td>Maybe</td>\n",
              "      <td>5-7 hours</td>\n",
              "      <td>Feeling irritated</td>\n",
              "      <td>Distraction</td>\n",
              "      <td>Sometimes</td>\n",
              "      <td>Personal issues</td>\n",
              "      <td>Sometimes</td>\n",
              "      <td>Yes</td>\n",
              "      <td>yes</td>\n",
              "      <td>Anxiety or depression</td>\n",
              "      <td>Best friend</td>\n",
              "      <td>While gaming</td>\n",
              "      <td>0</td>\n",
              "    </tr>\n",
              "  </tbody>\n",
              "</table>\n",
              "</div>\n",
              "      <button class=\"colab-df-convert\" onclick=\"convertToInteractive('df-6740a4fc-4265-46c9-b119-0a52de0da6f0')\"\n",
              "              title=\"Convert this dataframe to an interactive table.\"\n",
              "              style=\"display:none;\">\n",
              "        \n",
              "  <svg xmlns=\"http://www.w3.org/2000/svg\" height=\"24px\"viewBox=\"0 0 24 24\"\n",
              "       width=\"24px\">\n",
              "    <path d=\"M0 0h24v24H0V0z\" fill=\"none\"/>\n",
              "    <path d=\"M18.56 5.44l.94 2.06.94-2.06 2.06-.94-2.06-.94-.94-2.06-.94 2.06-2.06.94zm-11 1L8.5 8.5l.94-2.06 2.06-.94-2.06-.94L8.5 2.5l-.94 2.06-2.06.94zm10 10l.94 2.06.94-2.06 2.06-.94-2.06-.94-.94-2.06-.94 2.06-2.06.94z\"/><path d=\"M17.41 7.96l-1.37-1.37c-.4-.4-.92-.59-1.43-.59-.52 0-1.04.2-1.43.59L10.3 9.45l-7.72 7.72c-.78.78-.78 2.05 0 2.83L4 21.41c.39.39.9.59 1.41.59.51 0 1.02-.2 1.41-.59l7.78-7.78 2.81-2.81c.8-.78.8-2.07 0-2.86zM5.41 20L4 18.59l7.72-7.72 1.47 1.35L5.41 20z\"/>\n",
              "  </svg>\n",
              "      </button>\n",
              "      \n",
              "  <style>\n",
              "    .colab-df-container {\n",
              "      display:flex;\n",
              "      flex-wrap:wrap;\n",
              "      gap: 12px;\n",
              "    }\n",
              "\n",
              "    .colab-df-convert {\n",
              "      background-color: #E8F0FE;\n",
              "      border: none;\n",
              "      border-radius: 50%;\n",
              "      cursor: pointer;\n",
              "      display: none;\n",
              "      fill: #1967D2;\n",
              "      height: 32px;\n",
              "      padding: 0 0 0 0;\n",
              "      width: 32px;\n",
              "    }\n",
              "\n",
              "    .colab-df-convert:hover {\n",
              "      background-color: #E2EBFA;\n",
              "      box-shadow: 0px 1px 2px rgba(60, 64, 67, 0.3), 0px 1px 3px 1px rgba(60, 64, 67, 0.15);\n",
              "      fill: #174EA6;\n",
              "    }\n",
              "\n",
              "    [theme=dark] .colab-df-convert {\n",
              "      background-color: #3B4455;\n",
              "      fill: #D2E3FC;\n",
              "    }\n",
              "\n",
              "    [theme=dark] .colab-df-convert:hover {\n",
              "      background-color: #434B5C;\n",
              "      box-shadow: 0px 1px 3px 1px rgba(0, 0, 0, 0.15);\n",
              "      filter: drop-shadow(0px 1px 2px rgba(0, 0, 0, 0.3));\n",
              "      fill: #FFFFFF;\n",
              "    }\n",
              "  </style>\n",
              "\n",
              "      <script>\n",
              "        const buttonEl =\n",
              "          document.querySelector('#df-6740a4fc-4265-46c9-b119-0a52de0da6f0 button.colab-df-convert');\n",
              "        buttonEl.style.display =\n",
              "          google.colab.kernel.accessAllowed ? 'block' : 'none';\n",
              "\n",
              "        async function convertToInteractive(key) {\n",
              "          const element = document.querySelector('#df-6740a4fc-4265-46c9-b119-0a52de0da6f0');\n",
              "          const dataTable =\n",
              "            await google.colab.kernel.invokeFunction('convertToInteractive',\n",
              "                                                     [key], {});\n",
              "          if (!dataTable) return;\n",
              "\n",
              "          const docLinkHtml = 'Like what you see? Visit the ' +\n",
              "            '<a target=\"_blank\" href=https://colab.research.google.com/notebooks/data_table.ipynb>data table notebook</a>'\n",
              "            + ' to learn more about interactive tables.';\n",
              "          element.innerHTML = '';\n",
              "          dataTable['output_type'] = 'display_data';\n",
              "          await google.colab.output.renderOutput(dataTable, element);\n",
              "          const docLink = document.createElement('div');\n",
              "          docLink.innerHTML = docLinkHtml;\n",
              "          element.appendChild(docLink);\n",
              "        }\n",
              "      </script>\n",
              "    </div>\n",
              "  </div>\n",
              "  "
            ]
          },
          "metadata": {},
          "execution_count": 22
        }
      ]
    },
    {
      "cell_type": "code",
      "source": [
        "list(new_df['new_col5'].value_counts()[0:5].keys())"
      ],
      "metadata": {
        "colab": {
          "base_uri": "https://localhost:8080/"
        },
        "id": "SNuALnRPxEtP",
        "outputId": "94777f2e-0dcf-4274-fe8a-d851e1efc56a"
      },
      "execution_count": 23,
      "outputs": [
        {
          "output_type": "execute_result",
          "data": {
            "text/plain": [
              "['Student', 'Employed', 'Unemployed', 'Entrepreneur', 'Freelancer']"
            ]
          },
          "metadata": {},
          "execution_count": 23
        }
      ]
    },
    {
      "cell_type": "code",
      "source": [
        "list(new_df['new_col18'].value_counts()[0:5].keys())"
      ],
      "metadata": {
        "colab": {
          "base_uri": "https://localhost:8080/"
        },
        "id": "Mon7SSi-yVES",
        "outputId": "0c911b5b-8d57-47a4-9349-c1cd6ec3d89c"
      },
      "execution_count": 24,
      "outputs": [
        {
          "output_type": "execute_result",
          "data": {
            "text/plain": [
              "['Restlessness',\n",
              " 'Lack of motivation or focus',\n",
              " 'Anxiety or depression',\n",
              " 'Angry outbursts',\n",
              " 'All of the above ']"
            ]
          },
          "metadata": {},
          "execution_count": 24
        }
      ]
    },
    {
      "cell_type": "code",
      "source": [
        "d = pd.get_dummies(d, columns=['new_col3', 'new_col4', 'new_col5', 'new_col6', 'new_col7', 'new_col8',\n",
        "       'new_col9', 'new_col10', 'new_col11', 'new_col12', 'new_col13',\n",
        "       'new_col14', 'new_col15', 'new_col16', 'new_col18', 'new_col19',\n",
        "       'new_col20'])"
      ],
      "metadata": {
        "id": "NdiHbq1bVrQH"
      },
      "execution_count": 25,
      "outputs": []
    },
    {
      "cell_type": "code",
      "source": [
        "d.columns"
      ],
      "metadata": {
        "colab": {
          "base_uri": "https://localhost:8080/"
        },
        "id": "makDwoB4WG9l",
        "outputId": "50f2e8d0-9208-45cb-c36d-9544012be9ef"
      },
      "execution_count": 26,
      "outputs": [
        {
          "output_type": "execute_result",
          "data": {
            "text/plain": [
              "Index(['class', 'new_col3_20-30', 'new_col3_30-40', 'new_col3_above 40',\n",
              "       'new_col3_less than 15', 'new_col3_less than 20', 'new_col4_Female',\n",
              "       'new_col4_Male', 'new_col5_Employed', 'new_col5_Entrepreneur',\n",
              "       ...\n",
              "       'new_col20_While traveling ', 'new_col20_While watching drama',\n",
              "       'new_col20_While watching movie ', 'new_col20_With my lovable person',\n",
              "       'new_col20_With someone special ', 'new_col20_playing guitar ',\n",
              "       'new_col20_playing the guitar', 'new_col20_watching series',\n",
              "       'new_col20_while doing swimming ', 'new_col20_with my dog'],\n",
              "      dtype='object', length=218)"
            ]
          },
          "metadata": {},
          "execution_count": 26
        }
      ]
    },
    {
      "cell_type": "code",
      "source": [
        "d.shape"
      ],
      "metadata": {
        "colab": {
          "base_uri": "https://localhost:8080/"
        },
        "id": "afxMGHgVWMV-",
        "outputId": "09bc9f9c-bc81-456d-e4e9-e112294aaa80"
      },
      "execution_count": 27,
      "outputs": [
        {
          "output_type": "execute_result",
          "data": {
            "text/plain": [
              "(505, 218)"
            ]
          },
          "metadata": {},
          "execution_count": 27
        }
      ]
    },
    {
      "cell_type": "code",
      "source": [
        "import warnings\n",
        "warnings.filterwarnings('ignore')\n",
        "plt.figure(figsize=(21,5))\n",
        "\n",
        "plt.subplot(1,3,1)\n",
        "sns.countplot(x=data['new_col4'], alpha=0.8, palette=\"Paired\", hue=data['class']);\n",
        "plt.tick_params(axis='both', which='both', bottom=False, left=True, right=False, top=False, labelbottom=True, labelleft=True);\n",
        "sns.despine(fig=None, ax=None, top=True, right=True, left=False, bottom=True, offset=None, trim=False);\n",
        "plt.xlabel('')\n",
        "plt.title('Gender');\n",
        "\n",
        "plt.subplot(1,3,2)\n",
        "sns.countplot(x=data['new_col5'], alpha=0.8, palette=\"Paired\", hue=data['class']);\n",
        "plt.tick_params(axis='both', which='both', bottom=False, left=True, right=False, top=False, labelbottom=True, labelleft=True);\n",
        "sns.despine(fig=None, ax=None, top=True, right=True, left=False, bottom=True, offset=None, trim=False);\n",
        "plt.xlabel('')\n",
        "plt.title('occupation');\n",
        "plt.savefig(\"sub.jpg\",format='jpg')\n",
        "\n",
        "'''\n",
        "\n",
        "plt.subplot(1,3,3)\n",
        "sns.countplot(x=data['new_col7'], alpha=0.8, palette=\"Paired\", hue=data['class']);\n",
        "plt.tick_params(axis='both', which='both', bottom=False, left=True, right=False, top=False, labelbottom=True, labelleft=True);\n",
        "sns.despine(fig=None, ax=None, top=True, right=True, left=False, bottom=True, offset=None, trim=False);\n",
        "plt.xlabel('')\n",
        "plt.title('mobile phone usage');\n",
        "\n",
        "plt.savefig(\"sub.jpg\",format='jpg')\n",
        "\n",
        "\n",
        "'''\n",
        "\n"
      ],
      "metadata": {
        "id": "4bUW_uQjgcjv",
        "colab": {
          "base_uri": "https://localhost:8080/",
          "height": 407
        },
        "outputId": "57dd4686-d5fb-4656-bcaf-101196c54c0b"
      },
      "execution_count": 28,
      "outputs": [
        {
          "output_type": "execute_result",
          "data": {
            "text/plain": [
              "'\\n\\nplt.subplot(1,3,3)\\nsns.countplot(x=data[\\'new_col7\\'], alpha=0.8, palette=\"Paired\", hue=data[\\'class\\']);\\nplt.tick_params(axis=\\'both\\', which=\\'both\\', bottom=False, left=True, right=False, top=False, labelbottom=True, labelleft=True);\\nsns.despine(fig=None, ax=None, top=True, right=True, left=False, bottom=True, offset=None, trim=False);\\nplt.xlabel(\\'\\')\\nplt.title(\\'mobile phone usage\\');\\n\\nplt.savefig(\"sub.jpg\",format=\\'jpg\\')\\n\\n\\n'"
            ],
            "application/vnd.google.colaboratory.intrinsic+json": {
              "type": "string"
            }
          },
          "metadata": {},
          "execution_count": 28
        },
        {
          "output_type": "display_data",
          "data": {
            "text/plain": [
              "<Figure size 1512x360 with 2 Axes>"
            ],
            "image/png": "[encoded data removed]"
          },
          "metadata": {
            "needs_background": "light"
          }
        }
      ]
    },
    {
      "cell_type": "code",
      "source": [
        "\n",
        "#how many hrs of sleep per day\n",
        "plt.figure(figsize=(7,7))\n",
        "plt.pie(list(data['new_col9'].value_counts()),labels=list(data['new_col9'].value_counts().keys()),autopct='%0.1f%%')\n",
        "plt.title(\"sleeping hourse per day\")\n",
        "plt.savefig(\"sub1.jpg\",format='jpg')\n",
        "plt.show() \n",
        "\n"
      ],
      "metadata": {
        "colab": {
          "base_uri": "https://localhost:8080/",
          "height": 427
        },
        "id": "FG4WbCgBjjpV",
        "outputId": "f38c7a0c-e5e4-4b73-cf4d-85c4377cbae6"
      },
      "execution_count": 29,
      "outputs": [
        {
          "output_type": "display_data",
          "data": {
            "text/plain": [
              "<Figure size 504x504 with 1 Axes>"
            ],
            "image/png": "[encoded data removed]"
          },
          "metadata": {}
        }
      ]
    },
    {
      "cell_type": "code",
      "source": [
        "#withdrawing from family,friends,and isolating youself\n",
        "plt.figure(figsize=(7,7))\n",
        "plt.pie(list(data['new_col15'].value_counts()),labels=list(data['new_col15'].value_counts().keys()),autopct='%0.1f%%')\n",
        "plt.title(\"withdrawing from family , friends and being lonely\")\n",
        "plt.savefig(\"sub2.jpg\",format='jpg')\n",
        "plt.show() "
      ],
      "metadata": {
        "colab": {
          "base_uri": "https://localhost:8080/",
          "height": 427
        },
        "id": "tz6ShF6s0Jau",
        "outputId": "b6fceaaa-b6fe-4527-d4ba-34d6cc44442e"
      },
      "execution_count": 30,
      "outputs": [
        {
          "output_type": "display_data",
          "data": {
            "text/plain": [
              "<Figure size 504x504 with 1 Axes>"
            ],
            "image/png": "[encoded data removed]"
          },
          "metadata": {}
        }
      ]
    },
    {
      "cell_type": "code",
      "source": [
        "\n",
        "plt.figure(figsize=(7,7))\n",
        "plt.bar(list(data['new_col7'].value_counts()[0:4].keys()),list(data['new_col7'].value_counts()[0:4]),color=(\"blue\",\"violet\",\"red\",\"green\"))\n",
        "plt.show()\n"
      ],
      "metadata": {
        "colab": {
          "base_uri": "https://localhost:8080/",
          "height": 428
        },
        "id": "1rG5ABDt44Vu",
        "outputId": "e6b46c92-db4f-45aa-8b24-5bd8ccfe9d3b"
      },
      "execution_count": 31,
      "outputs": [
        {
          "output_type": "display_data",
          "data": {
            "text/plain": [
              "<Figure size 504x504 with 1 Axes>"
            ],
            "image/png": "[encoded data removed]"
          },
          "metadata": {
            "needs_background": "light"
          }
        }
      ]
    },
    {
      "cell_type": "code",
      "source": [
        "#facing health issues\n",
        "plt.figure(figsize=(6,6))\n",
        "plt.bar(list(data['new_col16'].value_counts()[0:3].keys()),list(data['new_col16'].value_counts()[0:3]),color=(\"blue\",\"violet\",\"red\",\"green\"))\n",
        "plt.title(\"facing health issues\")\n",
        "plt.savefig(\"bar1.jpg\",format='jpg')\n",
        "plt.show()"
      ],
      "metadata": {
        "colab": {
          "base_uri": "https://localhost:8080/",
          "height": 390
        },
        "id": "5gEjz7FnAYRk",
        "outputId": "a0bcf3b5-81b4-4b7f-dcca-d57f41dc0678"
      },
      "execution_count": 32,
      "outputs": [
        {
          "output_type": "display_data",
          "data": {
            "text/plain": [
              "<Figure size 432x432 with 1 Axes>"
            ],
            "image/png": "[encoded data removed]"
          },
          "metadata": {
            "needs_background": "light"
          }
        }
      ]
    },
    {
      "cell_type": "code",
      "source": [
        "#speakinng openly about your stress\n",
        "plt.figure(figsize=(6,6))\n",
        "plt.bar(list(data['new_col14'].value_counts()[0:3].keys()),list(data['new_col14'].value_counts()[0:3]),color=(\"blue\",\"violet\",\"red\",\"green\"))\n",
        "plt.title(\"speaking openly about stress\")\n",
        "plt.savefig(\"bar2.jpg\",format='jpg')\n",
        "plt.show()"
      ],
      "metadata": {
        "colab": {
          "base_uri": "https://localhost:8080/",
          "height": 390
        },
        "id": "1gDAO0iLBErH",
        "outputId": "eb75272e-38ff-4673-ae81-8b1d8b8041a9"
      },
      "execution_count": 33,
      "outputs": [
        {
          "output_type": "display_data",
          "data": {
            "text/plain": [
              "<Figure size 432x432 with 1 Axes>"
            ],
            "image/png": "[encoded data removed]"
          },
          "metadata": {
            "needs_background": "light"
          }
        }
      ]
    },
    {
      "cell_type": "code",
      "source": [
        "#density plot\n",
        "import warnings\n",
        "warnings.filterwarnings('ignore')\n",
        "sns.set_style('white')\n",
        "plt.figure(figsize=(21,5))\n",
        "\n",
        "plt.subplot(1,3,1)\n",
        "sns.kdeplot(x=d['new_col3_20-30'], alpha=0.2, palette=\"Set1\", label='Smoker', fill=True, linewidth=1.5, hue=data['class']);\n",
        "sns.despine(fig=None, ax=None, top=True, right=True, left=True, bottom=True, offset=None, trim=False);\n",
        "plt.xlabel('');\n",
        "plt.title('Age 20 to 30');\n",
        "\n",
        "plt.subplot(1,3,2)\n",
        "sns.kdeplot(x=d['new_col3_30-40'], alpha=0.2, palette=\"Set1\", label='Smoker', fill=True, linewidth=1.5, hue=data['class']);\n",
        "sns.despine(fig=None, ax=None, top=True, right=True, left=True, bottom=True, offset=None, trim=False);\n",
        "plt.xlabel('');\n",
        "plt.title('Age 30 to 40');\n",
        "plt.savefig(\"dens.jpg\",format='jpg')\n",
        "\n",
        "'''\n",
        "\n",
        "plt.subplot(1,3,3)\n",
        "sns.kdeplot(x=d['new_col3_above 40'], alpha=0.2, palette=\"Set1\", label='Smoker', fill=True, linewidth=1.5, hue=data['class']);\n",
        "sns.despine(fig=None, ax=None, top=True, right=True, left=True, bottom=True, offset=None, trim=False);\n",
        "plt.xlabel('');\n",
        "plt.title('Age above 40');\n",
        "plt.savefig(\"dens.jpg\",format='jpg')\n",
        "'''\n"
      ],
      "metadata": {
        "colab": {
          "base_uri": "https://localhost:8080/",
          "height": 389
        },
        "id": "Yctqo3NJCkjW",
        "outputId": "29e154f4-b2bd-4845-f2f5-03087e5b3ba3"
      },
      "execution_count": 34,
      "outputs": [
        {
          "output_type": "execute_result",
          "data": {
            "text/plain": [
              "'\\n\\nplt.subplot(1,3,3)\\nsns.kdeplot(x=d[\\'new_col3_above 40\\'], alpha=0.2, palette=\"Set1\", label=\\'Smoker\\', fill=True, linewidth=1.5, hue=data[\\'class\\']);\\nsns.despine(fig=None, ax=None, top=True, right=True, left=True, bottom=True, offset=None, trim=False);\\nplt.xlabel(\\'\\');\\nplt.title(\\'Age above 40\\');\\nplt.savefig(\"dens.jpg\",format=\\'jpg\\')\\n'"
            ],
            "application/vnd.google.colaboratory.intrinsic+json": {
              "type": "string"
            }
          },
          "metadata": {},
          "execution_count": 34
        },
        {
          "output_type": "display_data",
          "data": {
            "text/plain": [
              "<Figure size 1512x360 with 2 Axes>"
            ],
            "image/png": "[encoded data removed]"
          },
          "metadata": {}
        }
      ]
    },
    {
      "cell_type": "code",
      "source": [
        "X = d.drop('class', axis = 1)\n",
        "Y= d['class']\n",
        "Y"
      ],
      "metadata": {
        "colab": {
          "base_uri": "https://localhost:8080/"
        },
        "id": "LUmBgcjXmeJu",
        "outputId": "a48348db-0985-4e56-b00b-64cbfa480edc"
      },
      "execution_count": 35,
      "outputs": [
        {
          "output_type": "execute_result",
          "data": {
            "text/plain": [
              "0      2\n",
              "1      0\n",
              "2      2\n",
              "3      1\n",
              "4      2\n",
              "      ..\n",
              "504    2\n",
              "505    1\n",
              "507    2\n",
              "508    0\n",
              "509    0\n",
              "Name: class, Length: 505, dtype: int64"
            ]
          },
          "metadata": {},
          "execution_count": 35
        }
      ]
    },
    {
      "cell_type": "code",
      "source": [
        "Y.head(2)"
      ],
      "metadata": {
        "id": "91ErLIfBUnBO",
        "colab": {
          "base_uri": "https://localhost:8080/"
        },
        "outputId": "0c9d1530-56eb-4643-a6f6-856a3ed51a96"
      },
      "execution_count": 36,
      "outputs": [
        {
          "output_type": "execute_result",
          "data": {
            "text/plain": [
              "0    2\n",
              "1    0\n",
              "Name: class, dtype: int64"
            ]
          },
          "metadata": {},
          "execution_count": 36
        }
      ]
    },
    {
      "cell_type": "code",
      "source": [
        "X.shape"
      ],
      "metadata": {
        "id": "jxZlIHbrU-Z4",
        "colab": {
          "base_uri": "https://localhost:8080/"
        },
        "outputId": "52deb6c9-3ca6-4e16-f70d-409726ef1f31"
      },
      "execution_count": 37,
      "outputs": [
        {
          "output_type": "execute_result",
          "data": {
            "text/plain": [
              "(505, 217)"
            ]
          },
          "metadata": {},
          "execution_count": 37
        }
      ]
    },
    {
      "cell_type": "code",
      "source": [
        "Y.shape"
      ],
      "metadata": {
        "id": "p7v7BS_YVAwm",
        "colab": {
          "base_uri": "https://localhost:8080/"
        },
        "outputId": "c92a1f69-f147-4f70-9d4c-60963ee12df3"
      },
      "execution_count": 38,
      "outputs": [
        {
          "output_type": "execute_result",
          "data": {
            "text/plain": [
              "(505,)"
            ]
          },
          "metadata": {},
          "execution_count": 38
        }
      ]
    },
    {
      "cell_type": "code",
      "source": [
        "from sklearn.model_selection import train_test_split\n",
        "seed=2\n",
        "test=0.3\n",
        "X_train, X_test, y_train, y_test = train_test_split(X, Y, test_size=0.3, random_state=seed)"
      ],
      "metadata": {
        "id": "okbHHDed47bp"
      },
      "execution_count": 39,
      "outputs": []
    },
    {
      "cell_type": "code",
      "source": [
        "clf = DecisionTreeClassifier(random_state=42)\n",
        "clf = clf.fit(X_train,y_train)\n",
        "y_pred = clf.predict(X_test)\n",
        "from sklearn.metrics import confusion_matrix, accuracy_score\n",
        "#result = confusion_matrix(y_test, y_pred)\n",
        "result = accuracy_score(y_test,y_pred)\n",
        "print(\"Accuracy:\",result)\n",
        "precision=precision_score(y_test,y_pred,pos_label='positive',average='macro')\n",
        "print(f\"precision: {precision}\")\n",
        "recall=recall_score(y_test,y_pred,pos_label='positive',average='macro')\n",
        "print(f\"recall: {recall}\")\n",
        "F1=f1_score(y_test,y_pred,pos_label='positive',average='macro')\n",
        "print(f\"f1score: {F1}\")\n",
        "from sklearn.metrics import confusion_matrix,plot_confusion_matrix\n",
        "clf.fit(X_train, y_train)\n",
        "plot_confusion_matrix(clf,X_test,y_test,cmap=plt.cm.Blues,values_format = '.5g', display_labels = [\"low\",\"medium\",\"high\"])\n",
        "plt.show()\n",
        "plt.savefig(\"DT confusion.jpg\",format='jpg')"
      ],
      "metadata": {
        "id": "-vCCpqWo5E7Y",
        "colab": {
          "base_uri": "https://localhost:8080/",
          "height": 366
        },
        "outputId": "72b3640f-ca2a-4e42-e4fc-1cd0d02380a1"
      },
      "execution_count": 40,
      "outputs": [
        {
          "output_type": "stream",
          "name": "stdout",
          "text": [
            "Accuracy: 0.5592105263157895\n",
            "precision: 0.4773218701180462\n",
            "recall: 0.4621943371943373\n",
            "f1score: 0.46724033816425115\n"
          ]
        },
        {
          "output_type": "display_data",
          "data": {
            "text/plain": [
              "<Figure size 432x288 with 2 Axes>"
            ],
            "image/png": "[encoded data removed]"
          },
          "metadata": {}
        },
        {
          "output_type": "display_data",
          "data": {
            "text/plain": [
              "<Figure size 432x288 with 0 Axes>"
            ]
          },
          "metadata": {}
        }
      ]
    },
    {
      "cell_type": "code",
      "source": [
        "seed = 2\n",
        "test_size = 0.3\n",
        "X_train, X_test, y_train, y_test = train_test_split(X, Y, test_size=test_size, random_state=seed)"
      ],
      "metadata": {
        "id": "aql2Da_4JcSD"
      },
      "execution_count": 41,
      "outputs": []
    },
    {
      "cell_type": "code",
      "source": [
        "randomforest = RandomForestClassifier(n_estimators=1000, random_state=42)\n",
        "randomforest.fit(X_train, y_train)\n",
        "predictions = randomforest.predict(X_test)\n",
        "score = accuracy_score(predictions, y_test)\n",
        "precision=precision_score(predictions,y_test,pos_label='positive',average='macro')\n",
        "print(f\"precision: {precision}\")\n",
        "recall=recall_score(predictions,y_test,pos_label='positive',average='macro')\n",
        "print(f\"recall: {recall}\")\n",
        "F1=f1_score(predictions,y_test,pos_label='positive',average='macro')\n",
        "print(f\"f1score: {F1}\")\n",
        "print(f\"RandomForestClassifier: {score}\")\n",
        "from sklearn.metrics import confusion_matrix,plot_confusion_matrix\n",
        "randomforest.fit(X_train, y_train)\n",
        "plot_confusion_matrix(randomforest,X_test,y_test,cmap=plt.cm.Blues,values_format = '.5g', display_labels = [\"low\",\"medium\",\"high\"])\n",
        "plt.show()\n",
        "plt.savefig(\"RF confusion.jpg\",format='jpg')"
      ],
      "metadata": {
        "colab": {
          "base_uri": "https://localhost:8080/",
          "height": 366
        },
        "id": "-9OolGtfJfBE",
        "outputId": "245a3d66-06d6-4859-93b9-87c362a23c22"
      },
      "execution_count": 42,
      "outputs": [
        {
          "output_type": "stream",
          "name": "stdout",
          "text": [
            "precision: 0.3883072633072633\n",
            "recall: 0.528546332894159\n",
            "f1score: 0.36936627311445364\n",
            "RandomForestClassifier: 0.6118421052631579\n"
          ]
        },
        {
          "output_type": "display_data",
          "data": {
            "text/plain": [
              "<Figure size 432x288 with 2 Axes>"
            ],
            "image/png": "[encoded data removed]"
          },
          "metadata": {}
        },
        {
          "output_type": "display_data",
          "data": {
            "text/plain": [
              "<Figure size 432x288 with 0 Axes>"
            ]
          },
          "metadata": {}
        }
      ]
    }
  ]
}